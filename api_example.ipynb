{
 "cells": [
  {
   "cell_type": "code",
   "execution_count": 2,
   "metadata": {},
   "outputs": [],
   "source": [
    "import requests\n",
    "\n",
    "session = requests.session()\n",
    "\n",
    "base_url = \"http://127.0.0.1:8000/api/\"\n",
    "\n",
    "\n"
   ]
  },
  {
   "cell_type": "code",
   "execution_count": 17,
   "metadata": {},
   "outputs": [
    {
     "name": "stdout",
     "output_type": "stream",
     "text": [
      "{\"status\": 1}\n"
     ]
    }
   ],
   "source": [
    "endpoint = \"login\"\n",
    "\n",
    "json_body = {\n",
    "    \"username\": \"test\",\n",
    "    \"password\": \"fQ82Lr2zG9R8Q5R\"\n",
    "}\n",
    "\n",
    "response = session.post(base_url + endpoint, json=json_body)\n",
    "\n",
    "print(response.text)"
   ]
  },
  {
   "cell_type": "code",
   "execution_count": 18,
   "metadata": {},
   "outputs": [
    {
     "name": "stdout",
     "output_type": "stream",
     "text": [
      "{\"user\": \"test\", \"auth\": \"None\"}\n"
     ]
    }
   ],
   "source": [
    "endpoint = \"current_user\"\n",
    "\n",
    "response = session.get(base_url + endpoint)\n",
    "\n",
    "print(response.text)"
   ]
  },
  {
   "cell_type": "code",
   "execution_count": 21,
   "metadata": {},
   "outputs": [
    {
     "name": "stdout",
     "output_type": "stream",
     "text": [
      "[{\"id\": \"c5d1a7c8-1f21-4b3c-bc05-398092d67b9b\", \"name\": \"Newspaper\"}]\n"
     ]
    }
   ],
   "source": [
    "endpoint = \"get_categories\"\n",
    "\n",
    "response = session.get(base_url + endpoint)\n",
    "\n",
    "print(response.text)"
   ]
  },
  {
   "cell_type": "code",
   "execution_count": 40,
   "metadata": {},
   "outputs": [
    {
     "name": "stdout",
     "output_type": "stream",
     "text": [
      "[{\"source\": \"Something in english\", \"translation\": [\"Something in Russian\", \"Something else in Russian that is a valid translation for \\\"Something in English\\\"\"]}]\n"
     ]
    }
   ],
   "source": [
    "endpoint = \"get_questions\"\n",
    "\n",
    "json_body = {\n",
    "    'number_of_questions': 3,\n",
    "    \"mode\": \"text\",\n",
    "    \"source_language\": \"english\",\n",
    "    \"category_id\": \"c5d1a7c8-1f21-4b3c-bc05-398092d67b9b\"\n",
    "}\n",
    "\n",
    "response = session.get(base_url + endpoint, json=json_body)\n",
    "\n",
    "print(response.text)"
   ]
  },
  {
   "cell_type": "code",
   "execution_count": 15,
   "metadata": {},
   "outputs": [
    {
     "name": "stdout",
     "output_type": "stream",
     "text": [
      "{\"status\": 1}\n"
     ]
    }
   ],
   "source": [
    "endpoint = \"logout\"\n",
    "\n",
    "response = session.get(base_url + endpoint)\n",
    "\n",
    "print(response.text)"
   ]
  }
 ],
 "metadata": {
  "interpreter": {
   "hash": "ecf2e318af46ded10c9cbe9fc171de4b9fa282cfe0b0ef3fc4dd9b794e9d4428"
  },
  "kernelspec": {
   "display_name": "Python 3.8.10 ('venv': venv)",
   "language": "python",
   "name": "python3"
  },
  "language_info": {
   "codemirror_mode": {
    "name": "ipython",
    "version": 3
   },
   "file_extension": ".py",
   "mimetype": "text/x-python",
   "name": "python",
   "nbconvert_exporter": "python",
   "pygments_lexer": "ipython3",
   "version": "3.8.10"
  },
  "orig_nbformat": 4
 },
 "nbformat": 4,
 "nbformat_minor": 2
}
