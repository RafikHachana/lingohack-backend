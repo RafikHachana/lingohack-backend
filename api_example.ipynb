{
 "cells": [
  {
   "cell_type": "code",
   "execution_count": 2,
   "metadata": {},
   "outputs": [],
   "source": [
    "import requests\n",
    "\n",
    "session = requests.session()\n",
    "\n",
    "base_url = \"http://127.0.0.1:8000/api/\"\n",
    "\n",
    "\n"
   ]
  },
  {
   "cell_type": "code",
   "execution_count": 17,
   "metadata": {},
   "outputs": [
    {
     "name": "stdout",
     "output_type": "stream",
     "text": [
      "{\"status\": 1}\n"
     ]
    }
   ],
   "source": [
    "endpoint = \"login\"\n",
    "\n",
    "json_body = {\n",
    "    \"username\": \"test\",\n",
    "    \"password\": \"fQ82Lr2zG9R8Q5R\"\n",
    "}\n",
    "\n",
    "response = session.post(base_url + endpoint, json=json_body)\n",
    "\n",
    "print(response.text)"
   ]
  },
  {
   "cell_type": "code",
   "execution_count": 18,
   "metadata": {},
   "outputs": [
    {
     "name": "stdout",
     "output_type": "stream",
     "text": [
      "{\"user\": \"test\", \"auth\": \"None\"}\n"
     ]
    }
   ],
   "source": [
    "endpoint = \"current_user\"\n",
    "\n",
    "response = session.get(base_url + endpoint)\n",
    "\n",
    "print(response.text)"
   ]
  },
  {
   "cell_type": "code",
   "execution_count": 21,
   "metadata": {},
   "outputs": [
    {
     "name": "stdout",
     "output_type": "stream",
     "text": [
      "[{\"id\": \"c5d1a7c8-1f21-4b3c-bc05-398092d67b9b\", \"name\": \"Newspaper\"}]\n"
     ]
    }
   ],
   "source": [
    "endpoint = \"get_categories\"\n",
    "\n",
    "response = session.get(base_url + endpoint)\n",
    "\n",
    "print(response.text)"
   ]
  },
  {
   "cell_type": "code",
   "execution_count": 40,
   "metadata": {},
   "outputs": [
    {
     "name": "stdout",
     "output_type": "stream",
     "text": [
      "[{\"source\": \"Something in english\", \"translation\": [\"Something in Russian\", \"Something else in Russian that is a valid translation for \\\"Something in English\\\"\"]}]\n"
     ]
    }
   ],
   "source": [
    "endpoint = \"get_questions\"\n",
    "\n",
    "json_body = {\n",
    "    'number_of_questions': 3,\n",
    "    \"mode\": \"text\",\n",
    "    \"source_language\": \"english\",\n",
    "    \"category_id\": \"c5d1a7c8-1f21-4b3c-bc05-398092d67b9b\"\n",
    "}\n",
    "\n",
    "response = session.get(base_url + endpoint, json=json_body)\n",
    "\n",
    "print(response.text)"
   ]
  },
  {
   "cell_type": "code",
   "execution_count": 15,
   "metadata": {},
   "outputs": [
    {
     "name": "stdout",
     "output_type": "stream",
     "text": [
      "{\"status\": 1}\n"
     ]
    }
   ],
   "source": [
    "endpoint = \"logout\"\n",
    "\n",
    "response = session.get(base_url + endpoint)\n",
    "\n",
    "print(response.text)"
   ]
  },
  {
   "cell_type": "code",
   "execution_count": null,
   "metadata": {},
   "outputs": [],
   "source": [
    "from gtts import gTTS\n",
    "from IPython.display import HTML, Audio\n",
    "from io import BytesIO\n",
    "\n",
    "import os\n",
    "mytext = 'Welcome to the internet!'\n",
    "language = 'en'\n",
    "myobj = gTTS(text=mytext, lang=language, slow=False)\n",
    "# print(type(myobj))\n",
    "# myobj.save(\"welcome.mp3\")\n",
    "\n",
    "fp = BytesIO()\n",
    "myobj.write_to_fp(fp)\n",
    "fp.seek(0)\n",
    "\n",
    "result = fp.read()\n",
    "\n",
    "print(result)\n"
   ]
  },
  {
   "cell_type": "code",
   "execution_count": null,
   "metadata": {},
   "outputs": [],
   "source": [
    "import os\n",
    "import requests\n",
    "import pydub\n",
    "\n",
    "FOLDER_ID = 'b1gi3idig5rf0ob1ff72'\n",
    "TOKEN = 't1.9euelZqZk5WKmpXKzM7OjI-ekJbGj-3rnpWaiseWlYqLiomeyMjPlpLNns7l8_dkeDpt-e9ldnhb_t3z9yQnOG3572V2eFv-.idqiSUpUwcwzucowewtBfXDBxeLA4UfMkx8BOQbUIVWHkG7172e77XQU4ixGX4EmB2sWOd_sQbt48vQAkPe3Dg'\n",
    "\n",
    "headers = {\n",
    "    'Authorization': f\"Bearer {TOKEN}\",\n",
    "    'Content-Type': 'application/x-www-form-urlencoded',\n",
    "}\n",
    "\n",
    "text = 'Привет, крутой чел! Как делишки?'\n",
    "data = f'folderId={FOLDER_ID}&text={text}'.encode('utf-8')\n",
    "\n",
    "response = requests.post('https://tts.api.cloud.yandex.net/speech/v1/tts:synthesize', headers=headers, data=data)\n",
    "\n",
    "#print(response.content)\n",
    "\n",
    "\n",
    "fp = BytesIO()\n",
    "fp.write(response.content)\n",
    "fp.seek(0)\n",
    "result = BytesIO()\n",
    "mp3 = pydub.AudioSegment.from_file(fp).export(result, format=\"mp3\")\n",
    "\n",
    "result.seek(0)\n",
    "\n",
    "result = result.read()\n",
    "\n",
    "print(result)"
   ]
  },
  {
   "cell_type": "code",
   "execution_count": null,
   "metadata": {},
   "outputs": [],
   "source": [
    "import urllib.request\n",
    "import json\n",
    "\n",
    "FOLDER_ID = 'b1gi3idig5rf0ob1ff72'\n",
    "IAM_TOKEN = 't1.9euelZqZk5WKmpXKzM7OjI-ekJbGj-3rnpWaiseWlYqLiomeyMjPlpLNns7l8_dkeDpt-e9ldnhb_t3z9yQnOG3572V2eFv-.idqiSUpUwcwzucowewtBfXDBxeLA4UfMkx8BOQbUIVWHkG7172e77XQU4ixGX4EmB2sWOd_sQbt48vQAkPe3Dg'\n",
    "\n",
    "\n",
    "with open(\"speech.ogg\", \"rb\") as f:\n",
    "    data = f.read()\n",
    "\n",
    "params = \"&\".join([\n",
    "    \"topic=general\",\n",
    "    \"folderId=%s\" % FOLDER_ID,\n",
    "    \"lang=ru-RU\"\n",
    "])\n",
    "\n",
    "url = urllib.request.Request(\"https://stt.api.cloud.yandex.net/speech/v1/stt:recognize?%s\" % params, data=data)\n",
    "url.add_header(\"Authorization\", \"Bearer %s\" % IAM_TOKEN)\n",
    "\n",
    "responseData = urllib.request.urlopen(url).read().decode('UTF-8')\n",
    "decodedData = json.loads(responseData)\n",
    "\n",
    "if decodedData.get(\"error_code\") is None:\n",
    "    print(decodedData.get(\"result\"))"
   ]
  }
 ],
 "metadata": {
  "interpreter": {
   "hash": "ecf2e318af46ded10c9cbe9fc171de4b9fa282cfe0b0ef3fc4dd9b794e9d4428"
  },
  "kernelspec": {
   "display_name": "Python 3.8.10 ('venv': venv)",
   "language": "python",
   "name": "python3"
  },
  "language_info": {
   "codemirror_mode": {
    "name": "ipython",
    "version": 3
   },
   "file_extension": ".py",
   "mimetype": "text/x-python",
   "name": "python",
   "nbconvert_exporter": "python",
   "pygments_lexer": "ipython3",
   "version": "3.8.10"
  },
  "orig_nbformat": 4
 },
 "nbformat": 4,
 "nbformat_minor": 2
}
